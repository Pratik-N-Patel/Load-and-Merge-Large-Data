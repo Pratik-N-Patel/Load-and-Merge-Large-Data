{
 "cells": [
  {
   "cell_type": "markdown",
   "metadata": {},
   "source": [
    "### Approach to Merge and Load Large Data Files using Python Pandas"
   ]
  },
  {
   "cell_type": "markdown",
   "metadata": {},
   "source": [
    "#### 1. Importing pandas for Data Processing"
   ]
  },
  {
   "cell_type": "code",
   "execution_count": 9,
   "metadata": {},
   "outputs": [],
   "source": [
    "import pandas as pd"
   ]
  },
  {
   "cell_type": "markdown",
   "metadata": {},
   "source": [
    "#### 2. Loading the ID & Email into the Dataframe df"
   ]
  },
  {
   "cell_type": "code",
   "execution_count": 10,
   "metadata": {},
   "outputs": [
    {
     "name": "stdout",
     "output_type": "stream",
     "text": [
      "Wall time: 3.32 ms\n"
     ]
    },
    {
     "data": {
      "text/html": [
       "<div>\n",
       "<style scoped>\n",
       "    .dataframe tbody tr th:only-of-type {\n",
       "        vertical-align: middle;\n",
       "    }\n",
       "\n",
       "    .dataframe tbody tr th {\n",
       "        vertical-align: top;\n",
       "    }\n",
       "\n",
       "    .dataframe thead th {\n",
       "        text-align: right;\n",
       "    }\n",
       "</style>\n",
       "<table border=\"1\" class=\"dataframe\">\n",
       "  <thead>\n",
       "    <tr style=\"text-align: right;\">\n",
       "      <th></th>\n",
       "      <th>ID</th>\n",
       "      <th>email</th>\n",
       "    </tr>\n",
       "  </thead>\n",
       "  <tbody>\n",
       "    <tr>\n",
       "      <th>1</th>\n",
       "      <td>43024116</td>\n",
       "      <td>payned @aol.com</td>\n",
       "    </tr>\n",
       "    <tr>\n",
       "      <th>2</th>\n",
       "      <td>47735019</td>\n",
       "      <td>oevans@icloud.com</td>\n",
       "    </tr>\n",
       "    <tr>\n",
       "      <th>3</th>\n",
       "      <td>53008550</td>\n",
       "      <td>osrin@msn,com</td>\n",
       "    </tr>\n",
       "    <tr>\n",
       "      <th>4</th>\n",
       "      <td>66937215</td>\n",
       "      <td>lpalmer@att.net</td>\n",
       "    </tr>\n",
       "    <tr>\n",
       "      <th>5</th>\n",
       "      <td>83584259</td>\n",
       "      <td>mchugh@comcast.net</td>\n",
       "    </tr>\n",
       "  </tbody>\n",
       "</table>\n",
       "</div>"
      ],
      "text/plain": [
       "0        ID               email\n",
       "1  43024116     payned @aol.com\n",
       "2  47735019   oevans@icloud.com\n",
       "3  53008550       osrin@msn,com\n",
       "4  66937215     lpalmer@att.net\n",
       "5  83584259  mchugh@comcast.net"
      ]
     },
     "execution_count": 10,
     "metadata": {},
     "output_type": "execute_result"
    }
   ],
   "source": [
    "%%time\n",
    "File1 = r'C:\\Users\\prati\\Freedommobile\\File1.txt'\n",
    "with open(File1,\"r\") as file1:\n",
    "    FileasList = file1.readlines()\n",
    "    IdEmail=[]\n",
    "    for line in FileasList:\n",
    "        SplitLine = [line.strip() for line in line.split(',',1)]\n",
    "        IdEmail.append(SplitLine)\n",
    "df = pd.DataFrame(IdEmail)\n",
    "df.columns = df.iloc[0]\n",
    "df=df[1:]\n",
    "df.head()"
   ]
  },
  {
   "cell_type": "markdown",
   "metadata": {},
   "source": [
    "#### 3. Converting the Datatype to Category and Int32 to reduce the memory size"
   ]
  },
  {
   "cell_type": "code",
   "execution_count": 11,
   "metadata": {},
   "outputs": [],
   "source": [
    "df['ID']=df['ID'].astype(int)\n",
    "df['email']=df['email'].astype('category')"
   ]
  },
  {
   "cell_type": "markdown",
   "metadata": {},
   "source": [
    "#### 4. Loading the Name & ID in the DataFrame df1"
   ]
  },
  {
   "cell_type": "code",
   "execution_count": 12,
   "metadata": {},
   "outputs": [
    {
     "name": "stdout",
     "output_type": "stream",
     "text": [
      "Wall time: 3.27 ms\n"
     ]
    },
    {
     "data": {
      "text/html": [
       "<div>\n",
       "<style scoped>\n",
       "    .dataframe tbody tr th:only-of-type {\n",
       "        vertical-align: middle;\n",
       "    }\n",
       "\n",
       "    .dataframe tbody tr th {\n",
       "        vertical-align: top;\n",
       "    }\n",
       "\n",
       "    .dataframe thead th {\n",
       "        text-align: right;\n",
       "    }\n",
       "</style>\n",
       "<table border=\"1\" class=\"dataframe\">\n",
       "  <thead>\n",
       "    <tr style=\"text-align: right;\">\n",
       "      <th></th>\n",
       "      <th>Name</th>\n",
       "      <th>ID</th>\n",
       "    </tr>\n",
       "  </thead>\n",
       "  <tbody>\n",
       "    <tr>\n",
       "      <th>1</th>\n",
       "      <td>Lola Sullivan</td>\n",
       "      <td>43024116</td>\n",
       "    </tr>\n",
       "    <tr>\n",
       "      <th>2</th>\n",
       "      <td>Cherelle Ohearn</td>\n",
       "      <td>47735019</td>\n",
       "    </tr>\n",
       "    <tr>\n",
       "      <th>3</th>\n",
       "      <td>Harris Guard</td>\n",
       "      <td>53008550</td>\n",
       "    </tr>\n",
       "    <tr>\n",
       "      <th>4</th>\n",
       "      <td>Tandra Pooser</td>\n",
       "      <td>66937215</td>\n",
       "    </tr>\n",
       "    <tr>\n",
       "      <th>5</th>\n",
       "      <td>Herschel RancourtJr</td>\n",
       "      <td>83584259</td>\n",
       "    </tr>\n",
       "  </tbody>\n",
       "</table>\n",
       "</div>"
      ],
      "text/plain": [
       "0                 Name        ID\n",
       "1        Lola Sullivan  43024116\n",
       "2      Cherelle Ohearn  47735019\n",
       "3         Harris Guard  53008550\n",
       "4        Tandra Pooser  66937215\n",
       "5  Herschel RancourtJr  83584259"
      ]
     },
     "execution_count": 12,
     "metadata": {},
     "output_type": "execute_result"
    }
   ],
   "source": [
    "%%time\n",
    "File2 = r'C:\\Users\\prati\\Freedommobile\\File2.txt'\n",
    "with open(File2,\"r\") as file1:\n",
    "    FileasList = file1.readlines()\n",
    "    NameId=[]\n",
    "    for line in FileasList:\n",
    "        SplitLine = [line.replace('|','').replace(',','').strip() for line in line.split('|',1)]\n",
    "        NameId.append(SplitLine)\n",
    "df1 = pd.DataFrame(NameId)\n",
    "df1.columns = df1.iloc[0]\n",
    "df1=df1[1:]\n",
    "df1.head()"
   ]
  },
  {
   "cell_type": "markdown",
   "metadata": {},
   "source": [
    "#### 5. Converting the Datatype to Category and Int32 to reduce the memory size"
   ]
  },
  {
   "cell_type": "code",
   "execution_count": 13,
   "metadata": {},
   "outputs": [],
   "source": [
    "df1['ID']=df1['ID'].astype(int)\n",
    "df1['Name']=df1['Name'].astype('category')"
   ]
  },
  {
   "cell_type": "markdown",
   "metadata": {},
   "source": [
    "#### 6. Merged the data and saved into text file \"merged_df\" which contains Name & Email Address"
   ]
  },
  {
   "cell_type": "code",
   "execution_count": 16,
   "metadata": {},
   "outputs": [
    {
     "data": {
      "text/html": [
       "<div>\n",
       "<style scoped>\n",
       "    .dataframe tbody tr th:only-of-type {\n",
       "        vertical-align: middle;\n",
       "    }\n",
       "\n",
       "    .dataframe tbody tr th {\n",
       "        vertical-align: top;\n",
       "    }\n",
       "\n",
       "    .dataframe thead th {\n",
       "        text-align: right;\n",
       "    }\n",
       "</style>\n",
       "<table border=\"1\" class=\"dataframe\">\n",
       "  <thead>\n",
       "    <tr style=\"text-align: right;\">\n",
       "      <th></th>\n",
       "      <th>Name</th>\n",
       "      <th>email</th>\n",
       "    </tr>\n",
       "  </thead>\n",
       "  <tbody>\n",
       "    <tr>\n",
       "      <th>0</th>\n",
       "      <td>Lola Sullivan</td>\n",
       "      <td>payned @aol.com</td>\n",
       "    </tr>\n",
       "    <tr>\n",
       "      <th>1</th>\n",
       "      <td>Cherelle Ohearn</td>\n",
       "      <td>oevans@icloud.com</td>\n",
       "    </tr>\n",
       "    <tr>\n",
       "      <th>2</th>\n",
       "      <td>Harris Guard</td>\n",
       "      <td>osrin@msn,com</td>\n",
       "    </tr>\n",
       "    <tr>\n",
       "      <th>3</th>\n",
       "      <td>Tandra Pooser</td>\n",
       "      <td>lpalmer@att.net</td>\n",
       "    </tr>\n",
       "    <tr>\n",
       "      <th>4</th>\n",
       "      <td>Herschel RancourtJr</td>\n",
       "      <td>mchugh@comcast.net</td>\n",
       "    </tr>\n",
       "    <tr>\n",
       "      <th>5</th>\n",
       "      <td>Gwenn Mckern</td>\n",
       "      <td>njpayne@sbcglobal.net</td>\n",
       "    </tr>\n",
       "    <tr>\n",
       "      <th>6</th>\n",
       "      <td>Angeles Romero</td>\n",
       "      <td>caidaperl@gmail.com</td>\n",
       "    </tr>\n",
       "    <tr>\n",
       "      <th>7</th>\n",
       "      <td>Laverna Reza</td>\n",
       "      <td>jlbaumga@gmail.com</td>\n",
       "    </tr>\n",
       "    <tr>\n",
       "      <th>8</th>\n",
       "      <td>Mark Tussey</td>\n",
       "      <td>kobayasi_at_msn.com</td>\n",
       "    </tr>\n",
       "    <tr>\n",
       "      <th>9</th>\n",
       "      <td>Eliz Aldrich</td>\n",
       "      <td>corrada@att.net</td>\n",
       "    </tr>\n",
       "  </tbody>\n",
       "</table>\n",
       "</div>"
      ],
      "text/plain": [
       "0                 Name                  email\n",
       "0        Lola Sullivan        payned @aol.com\n",
       "1      Cherelle Ohearn      oevans@icloud.com\n",
       "2         Harris Guard          osrin@msn,com\n",
       "3        Tandra Pooser        lpalmer@att.net\n",
       "4  Herschel RancourtJr     mchugh@comcast.net\n",
       "5         Gwenn Mckern  njpayne@sbcglobal.net\n",
       "6       Angeles Romero    caidaperl@gmail.com\n",
       "7         Laverna Reza     jlbaumga@gmail.com\n",
       "8          Mark Tussey    kobayasi_at_msn.com\n",
       "9         Eliz Aldrich        corrada@att.net"
      ]
     },
     "execution_count": 16,
     "metadata": {},
     "output_type": "execute_result"
    }
   ],
   "source": [
    "merged_df = df1.merge(df,how='left',on='ID')\n",
    "merged_df[['Name','email']].to_csv('merged_df.txt',index=False)\n",
    "merged_df[['Name','email']].head()"
   ]
  },
  {
   "cell_type": "markdown",
   "metadata": {},
   "source": [
    "#### Points to be Noted:\n",
    "* Used Python for faster processing.\n",
    "* This code can handle 2 millions of rows within seconds.\n",
    "* Assumption: The file is stored in text format with the same delimiters as mentioned in the email &  \n",
    "certain email addresses are invalid which can be cleaned further.\n",
    "* The final output/ merged data is stored in text file format. "
   ]
  },
  {
   "cell_type": "code",
   "execution_count": null,
   "metadata": {},
   "outputs": [],
   "source": []
  }
 ],
 "metadata": {
  "kernelspec": {
   "display_name": "Python 3",
   "language": "python",
   "name": "python3"
  },
  "language_info": {
   "codemirror_mode": {
    "name": "ipython",
    "version": 3
   },
   "file_extension": ".py",
   "mimetype": "text/x-python",
   "name": "python",
   "nbconvert_exporter": "python",
   "pygments_lexer": "ipython3",
   "version": "3.7.3"
  }
 },
 "nbformat": 4,
 "nbformat_minor": 2
}
